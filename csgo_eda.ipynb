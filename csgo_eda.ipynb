{
 "cells": [
  {
   "cell_type": "markdown",
   "metadata": {},
   "source": [
    "### What questions do I want to answer\n",
    "\n",
    "Random test to see if my git ignore worked."
   ]
  },
  {
   "cell_type": "code",
   "execution_count": 2,
   "metadata": {},
   "outputs": [],
   "source": [
    "import pandas as pd\n",
    "import numpy as np\n",
    "import matplotlib.pyplot as plt"
   ]
  },
  {
   "cell_type": "code",
   "execution_count": 26,
   "metadata": {},
   "outputs": [],
   "source": [
    "team_stats = pd.read_csv('team_stats.csv', index_col=0)\n",
    "player_stats = pd.read_csv('player_stats.csv', index_col=0)"
   ]
  },
  {
   "cell_type": "code",
   "execution_count": 27,
   "metadata": {},
   "outputs": [
    {
     "data": {
      "text/plain": [
       "Index(['name', 'country', 'total_maps', 'kd_diff', 'kd', 'rating'], dtype='object')"
      ]
     },
     "execution_count": 27,
     "metadata": {},
     "output_type": "execute_result"
    }
   ],
   "source": [
    "# check out team_stats\n",
    "\n",
    "team_stats.columns"
   ]
  },
  {
   "cell_type": "code",
   "execution_count": 28,
   "metadata": {},
   "outputs": [
    {
     "data": {
      "text/html": [
       "<div>\n",
       "<style scoped>\n",
       "    .dataframe tbody tr th:only-of-type {\n",
       "        vertical-align: middle;\n",
       "    }\n",
       "\n",
       "    .dataframe tbody tr th {\n",
       "        vertical-align: top;\n",
       "    }\n",
       "\n",
       "    .dataframe thead th {\n",
       "        text-align: right;\n",
       "    }\n",
       "</style>\n",
       "<table border=\"1\" class=\"dataframe\">\n",
       "  <thead>\n",
       "    <tr style=\"text-align: right;\">\n",
       "      <th></th>\n",
       "      <th>name</th>\n",
       "      <th>country</th>\n",
       "      <th>total_maps</th>\n",
       "      <th>kd_diff</th>\n",
       "      <th>kd</th>\n",
       "      <th>rating</th>\n",
       "    </tr>\n",
       "  </thead>\n",
       "  <tbody>\n",
       "    <tr>\n",
       "      <th>0</th>\n",
       "      <td>Grayhound</td>\n",
       "      <td>Australia</td>\n",
       "      <td>553</td>\n",
       "      <td>7229</td>\n",
       "      <td>1.16</td>\n",
       "      <td>1.07</td>\n",
       "    </tr>\n",
       "    <tr>\n",
       "      <th>1</th>\n",
       "      <td>Recca</td>\n",
       "      <td>Indonesia</td>\n",
       "      <td>280</td>\n",
       "      <td>1816</td>\n",
       "      <td>1.08</td>\n",
       "      <td>1.07</td>\n",
       "    </tr>\n",
       "    <tr>\n",
       "      <th>2</th>\n",
       "      <td>Kings</td>\n",
       "      <td>Australia</td>\n",
       "      <td>122</td>\n",
       "      <td>1922</td>\n",
       "      <td>1.20</td>\n",
       "      <td>1.07</td>\n",
       "    </tr>\n",
       "    <tr>\n",
       "      <th>3</th>\n",
       "      <td>Flash</td>\n",
       "      <td>China</td>\n",
       "      <td>316</td>\n",
       "      <td>1559</td>\n",
       "      <td>1.06</td>\n",
       "      <td>1.07</td>\n",
       "    </tr>\n",
       "    <tr>\n",
       "      <th>4</th>\n",
       "      <td>DarkPassage</td>\n",
       "      <td>Turkey</td>\n",
       "      <td>122</td>\n",
       "      <td>1177</td>\n",
       "      <td>1.11</td>\n",
       "      <td>1.06</td>\n",
       "    </tr>\n",
       "  </tbody>\n",
       "</table>\n",
       "</div>"
      ],
      "text/plain": [
       "          name    country  total_maps  kd_diff    kd  rating\n",
       "0    Grayhound  Australia         553     7229  1.16    1.07\n",
       "1        Recca  Indonesia         280     1816  1.08    1.07\n",
       "2        Kings  Australia         122     1922  1.20    1.07\n",
       "3        Flash      China         316     1559  1.06    1.07\n",
       "4  DarkPassage     Turkey         122     1177  1.11    1.06"
      ]
     },
     "execution_count": 28,
     "metadata": {},
     "output_type": "execute_result"
    }
   ],
   "source": [
    "team_stats.head()"
   ]
  },
  {
   "cell_type": "code",
   "execution_count": 29,
   "metadata": {},
   "outputs": [
    {
     "data": {
      "text/html": [
       "<div>\n",
       "<style scoped>\n",
       "    .dataframe tbody tr th:only-of-type {\n",
       "        vertical-align: middle;\n",
       "    }\n",
       "\n",
       "    .dataframe tbody tr th {\n",
       "        vertical-align: top;\n",
       "    }\n",
       "\n",
       "    .dataframe thead th {\n",
       "        text-align: right;\n",
       "    }\n",
       "</style>\n",
       "<table border=\"1\" class=\"dataframe\">\n",
       "  <thead>\n",
       "    <tr style=\"text-align: right;\">\n",
       "      <th></th>\n",
       "      <th>name</th>\n",
       "      <th>country</th>\n",
       "      <th>teams</th>\n",
       "      <th>total_maps</th>\n",
       "      <th>total_rounds</th>\n",
       "      <th>kd_diff</th>\n",
       "      <th>kd</th>\n",
       "      <th>rating</th>\n",
       "    </tr>\n",
       "  </thead>\n",
       "  <tbody>\n",
       "    <tr>\n",
       "      <th>0</th>\n",
       "      <td>ZywOo</td>\n",
       "      <td>France</td>\n",
       "      <td>['Vitality', 'aAa']</td>\n",
       "      <td>854</td>\n",
       "      <td>22399</td>\n",
       "      <td>5248</td>\n",
       "      <td>1.38</td>\n",
       "      <td>1.28</td>\n",
       "    </tr>\n",
       "    <tr>\n",
       "      <th>1</th>\n",
       "      <td>s1mple</td>\n",
       "      <td>Ukraine</td>\n",
       "      <td>['Natus Vincere', 'FlipSid3']</td>\n",
       "      <td>1429</td>\n",
       "      <td>37717</td>\n",
       "      <td>8070</td>\n",
       "      <td>1.33</td>\n",
       "      <td>1.25</td>\n",
       "    </tr>\n",
       "    <tr>\n",
       "      <th>2</th>\n",
       "      <td>deko</td>\n",
       "      <td>Russia</td>\n",
       "      <td>['1WIN']</td>\n",
       "      <td>190</td>\n",
       "      <td>5096</td>\n",
       "      <td>1250</td>\n",
       "      <td>1.42</td>\n",
       "      <td>1.24</td>\n",
       "    </tr>\n",
       "    <tr>\n",
       "      <th>3</th>\n",
       "      <td>saffee</td>\n",
       "      <td>Brazil</td>\n",
       "      <td>['paiN']</td>\n",
       "      <td>202</td>\n",
       "      <td>5383</td>\n",
       "      <td>1211</td>\n",
       "      <td>1.37</td>\n",
       "      <td>1.24</td>\n",
       "    </tr>\n",
       "    <tr>\n",
       "      <th>4</th>\n",
       "      <td>sh1ro</td>\n",
       "      <td>Russia</td>\n",
       "      <td>['Gambit', 'Gambit Youngsters']</td>\n",
       "      <td>744</td>\n",
       "      <td>19780</td>\n",
       "      <td>4593</td>\n",
       "      <td>1.43</td>\n",
       "      <td>1.22</td>\n",
       "    </tr>\n",
       "  </tbody>\n",
       "</table>\n",
       "</div>"
      ],
      "text/plain": [
       "     name  country                            teams  total_maps  total_rounds  \\\n",
       "0   ZywOo   France              ['Vitality', 'aAa']         854         22399   \n",
       "1  s1mple  Ukraine    ['Natus Vincere', 'FlipSid3']        1429         37717   \n",
       "2    deko   Russia                         ['1WIN']         190          5096   \n",
       "3  saffee   Brazil                         ['paiN']         202          5383   \n",
       "4   sh1ro   Russia  ['Gambit', 'Gambit Youngsters']         744         19780   \n",
       "\n",
       "   kd_diff    kd  rating  \n",
       "0     5248  1.38    1.28  \n",
       "1     8070  1.33    1.25  \n",
       "2     1250  1.42    1.24  \n",
       "3     1211  1.37    1.24  \n",
       "4     4593  1.43    1.22  "
      ]
     },
     "execution_count": 29,
     "metadata": {},
     "output_type": "execute_result"
    }
   ],
   "source": [
    "player_stats.head()"
   ]
  },
  {
   "cell_type": "code",
   "execution_count": 31,
   "metadata": {},
   "outputs": [
    {
     "data": {
      "text/plain": [
       "array(['France', 'Ukraine', 'Russia', 'Brazil', 'Malaysia', 'New Zealand',\n",
       "       'United Kingdom', 'Germany', 'South Africa', 'Turkey', 'Japan',\n",
       "       'China', 'Argentina', 'Denmark', 'Romania', 'Korea', 'Indonesia',\n",
       "       'Hungary', 'Bosnia and Herzegovina', 'Singapore', 'Australia',\n",
       "       'Mongolia', 'Sweden', 'Czech Republic', 'Poland', 'Chile', 'Spain',\n",
       "       'Slovakia', 'Netherlands', 'Bulgaria', 'Latvia', 'Hong Kong',\n",
       "       'Canada', 'Finland', 'Estonia', 'United States', 'Thailand',\n",
       "       'Portugal', 'Albania', 'India', 'Slovenia', 'Belgium', 'Vietnam',\n",
       "       'United Arab Emirates', 'Philippines', 'Kyrgyzstan', 'Tunisia',\n",
       "       'Belarus', 'Uruguay', 'Peru', 'Lithuania', 'Israel', 'Serbia',\n",
       "       'Norway', 'Kazakhstan', 'Jordan', 'Colombia', 'Montenegro',\n",
       "       'Croatia', 'Guatemala', 'Mexico', 'Switzerland', 'Macedonia',\n",
       "       'Austria', 'Lebanon', 'Taiwan', 'Ireland', 'Iraq', 'Azerbaijan',\n",
       "       'Uzbekistan', 'Italy', 'Greece'], dtype=object)"
      ]
     },
     "execution_count": 31,
     "metadata": {},
     "output_type": "execute_result"
    }
   ],
   "source": [
    "player_stats['country'].unique()"
   ]
  },
  {
   "cell_type": "code",
   "execution_count": null,
   "metadata": {},
   "outputs": [],
   "source": []
  }
 ],
 "metadata": {
  "kernelspec": {
   "display_name": "Python (learn-env)",
   "language": "python",
   "name": "learn-env"
  },
  "language_info": {
   "codemirror_mode": {
    "name": "ipython",
    "version": 3
   },
   "file_extension": ".py",
   "mimetype": "text/x-python",
   "name": "python",
   "nbconvert_exporter": "python",
   "pygments_lexer": "ipython3",
   "version": "3.8.5"
  }
 },
 "nbformat": 4,
 "nbformat_minor": 4
}
